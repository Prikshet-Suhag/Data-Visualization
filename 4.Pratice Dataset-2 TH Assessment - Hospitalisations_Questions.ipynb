{
 "cells": [
  {
   "cell_type": "markdown",
   "metadata": {},
   "source": [
    "# Python for Data Science Quiz"
   ]
  },
  {
   "cell_type": "markdown",
   "metadata": {},
   "source": [
    "## This quiz is to test your understanding on the concepts learnt in class during the \n",
    "## Python for Data Science Course. \n",
    "## Background of the data - The dataset to be used for the quiz pertains to the \n",
    "## number of hospitalisations under the scheme Ayushman Bharat - Pradhan \n",
    "## Mantri Jan Arogya Yojana (AB-PMJAY), this data is as on 19 June, 2019.\n",
    "## The data contains number of cases of hospitalisation in public and private hospitalisations \n",
    "## state/ UT wise and on an all India level.\n",
    "## PMJAY is a scheme which provides health cover of Rs. 5 Lakhs per family per year, for \n",
    "## secondary and tertiary care hospitalization across public and private empaneled hospitals\n",
    "## in India. State/UT contains the list of states and union territories, Public column contains\n",
    "## hospitalisations in public hospitals and Private column contains list of hospitalisations in \n",
    "## private hospitals. "
   ]
  },
  {
   "cell_type": "code",
   "execution_count": 1,
   "metadata": {},
   "outputs": [],
   "source": [
    "import pandas as pd\n",
    "import numpy as np\n",
    "import matplotlib.pyplot as plt\n",
    "import seaborn as sns\n",
    "sns.set(color_codes=True)\n",
    "%matplotlib inline"
   ]
  },
  {
   "cell_type": "markdown",
   "metadata": {},
   "source": [
    "## Question 1: Import the dataset."
   ]
  },
  {
   "cell_type": "code",
   "execution_count": 2,
   "metadata": {},
   "outputs": [],
   "source": [
    "df=pd.read_csv('4.hospitalisations.csv')"
   ]
  },
  {
   "cell_type": "markdown",
   "metadata": {},
   "source": [
    "## Question 2: How many rows and columns does the data set have?"
   ]
  },
  {
   "cell_type": "code",
   "execution_count": 3,
   "metadata": {},
   "outputs": [
    {
     "name": "stdout",
     "output_type": "stream",
     "text": [
      "Rows: 32 \n",
      "Columns: 3\n"
     ]
    }
   ],
   "source": [
    "print('Rows:',df.shape[0],'\\nColumns:',df.shape[1])"
   ]
  },
  {
   "cell_type": "markdown",
   "metadata": {},
   "source": [
    "## Question 3: Does the data set have missing values? If yes, how many?"
   ]
  },
  {
   "cell_type": "code",
   "execution_count": 7,
   "metadata": {},
   "outputs": [
    {
     "data": {
      "text/plain": [
       "State/UT    0\n",
       "Private     2\n",
       "Public      2\n",
       "dtype: int64"
      ]
     },
     "execution_count": 7,
     "metadata": {},
     "output_type": "execute_result"
    }
   ],
   "source": [
    "df.isnull().sum()"
   ]
  },
  {
   "cell_type": "markdown",
   "metadata": {},
   "source": [
    "## Question 4: Drop the NA values."
   ]
  },
  {
   "cell_type": "code",
   "execution_count": 8,
   "metadata": {},
   "outputs": [],
   "source": [
    "df.dropna(inplace=True)"
   ]
  },
  {
   "cell_type": "code",
   "execution_count": 9,
   "metadata": {},
   "outputs": [
    {
     "data": {
      "text/plain": [
       "State/UT    0\n",
       "Private     0\n",
       "Public      0\n",
       "dtype: int64"
      ]
     },
     "execution_count": 9,
     "metadata": {},
     "output_type": "execute_result"
    }
   ],
   "source": [
    "df.isnull().sum()"
   ]
  },
  {
   "cell_type": "markdown",
   "metadata": {},
   "source": [
    "## Question 5: Create a new column Total which contains a sum of private and public\n",
    "## hospitalisations. So the column Total should be a summation of the two columns\n",
    "## Public and Private."
   ]
  },
  {
   "cell_type": "code",
   "execution_count": 11,
   "metadata": {},
   "outputs": [],
   "source": [
    "df['Total']=df['Public']+df['Private']"
   ]
  },
  {
   "cell_type": "code",
   "execution_count": 12,
   "metadata": {},
   "outputs": [
    {
     "data": {
      "text/html": [
       "<div>\n",
       "<style scoped>\n",
       "    .dataframe tbody tr th:only-of-type {\n",
       "        vertical-align: middle;\n",
       "    }\n",
       "\n",
       "    .dataframe tbody tr th {\n",
       "        vertical-align: top;\n",
       "    }\n",
       "\n",
       "    .dataframe thead th {\n",
       "        text-align: right;\n",
       "    }\n",
       "</style>\n",
       "<table border=\"1\" class=\"dataframe\">\n",
       "  <thead>\n",
       "    <tr style=\"text-align: right;\">\n",
       "      <th></th>\n",
       "      <th>State/UT</th>\n",
       "      <th>Private</th>\n",
       "      <th>Public</th>\n",
       "      <th>Total</th>\n",
       "    </tr>\n",
       "  </thead>\n",
       "  <tbody>\n",
       "    <tr>\n",
       "      <th>0</th>\n",
       "      <td>Andaman and Nicobar Islands</td>\n",
       "      <td>1.0</td>\n",
       "      <td>21.0</td>\n",
       "      <td>22.0</td>\n",
       "    </tr>\n",
       "    <tr>\n",
       "      <th>1</th>\n",
       "      <td>Andhra Pradesh</td>\n",
       "      <td>97863.0</td>\n",
       "      <td>34385.0</td>\n",
       "      <td>132248.0</td>\n",
       "    </tr>\n",
       "    <tr>\n",
       "      <th>2</th>\n",
       "      <td>Arunachal Pradesh</td>\n",
       "      <td>5.0</td>\n",
       "      <td>630.0</td>\n",
       "      <td>635.0</td>\n",
       "    </tr>\n",
       "    <tr>\n",
       "      <th>3</th>\n",
       "      <td>Assam</td>\n",
       "      <td>14350.0</td>\n",
       "      <td>33553.0</td>\n",
       "      <td>47903.0</td>\n",
       "    </tr>\n",
       "    <tr>\n",
       "      <th>4</th>\n",
       "      <td>Bihar</td>\n",
       "      <td>11747.0</td>\n",
       "      <td>34814.0</td>\n",
       "      <td>46561.0</td>\n",
       "    </tr>\n",
       "  </tbody>\n",
       "</table>\n",
       "</div>"
      ],
      "text/plain": [
       "                      State/UT  Private   Public     Total\n",
       "0  Andaman and Nicobar Islands      1.0     21.0      22.0\n",
       "1               Andhra Pradesh  97863.0  34385.0  132248.0\n",
       "2            Arunachal Pradesh      5.0    630.0     635.0\n",
       "3                        Assam  14350.0  33553.0   47903.0\n",
       "4                        Bihar  11747.0  34814.0   46561.0"
      ]
     },
     "execution_count": 12,
     "metadata": {},
     "output_type": "execute_result"
    }
   ],
   "source": [
    "df.head()"
   ]
  },
  {
   "cell_type": "markdown",
   "metadata": {},
   "source": [
    "## Question 6: Which State or UT is the unhealthiest? (i.e. maximum number of hospitalisations) \n",
    "## HINT : Do not include Grand Total"
   ]
  },
  {
   "cell_type": "code",
   "execution_count": 35,
   "metadata": {},
   "outputs": [
    {
     "data": {
      "text/html": [
       "<div>\n",
       "<style scoped>\n",
       "    .dataframe tbody tr th:only-of-type {\n",
       "        vertical-align: middle;\n",
       "    }\n",
       "\n",
       "    .dataframe tbody tr th {\n",
       "        vertical-align: top;\n",
       "    }\n",
       "\n",
       "    .dataframe thead th {\n",
       "        text-align: right;\n",
       "    }\n",
       "</style>\n",
       "<table border=\"1\" class=\"dataframe\">\n",
       "  <thead>\n",
       "    <tr style=\"text-align: right;\">\n",
       "      <th></th>\n",
       "      <th>State/UT</th>\n",
       "      <th>Private</th>\n",
       "      <th>Public</th>\n",
       "      <th>Total</th>\n",
       "    </tr>\n",
       "  </thead>\n",
       "  <tbody>\n",
       "    <tr>\n",
       "      <th>31</th>\n",
       "      <td>Grand Total</td>\n",
       "      <td>1697117.0</td>\n",
       "      <td>1238196.0</td>\n",
       "      <td>2935313.0</td>\n",
       "    </tr>\n",
       "    <tr>\n",
       "      <th>6</th>\n",
       "      <td>Chhattisgarh</td>\n",
       "      <td>411814.0</td>\n",
       "      <td>142123.0</td>\n",
       "      <td>553937.0</td>\n",
       "    </tr>\n",
       "    <tr>\n",
       "      <th>16</th>\n",
       "      <td>Kerala</td>\n",
       "      <td>131557.0</td>\n",
       "      <td>391079.0</td>\n",
       "      <td>522636.0</td>\n",
       "    </tr>\n",
       "    <tr>\n",
       "      <th>10</th>\n",
       "      <td>Gujarat</td>\n",
       "      <td>379379.0</td>\n",
       "      <td>94845.0</td>\n",
       "      <td>474224.0</td>\n",
       "    </tr>\n",
       "    <tr>\n",
       "      <th>26</th>\n",
       "      <td>Tamil Nadu</td>\n",
       "      <td>120473.0</td>\n",
       "      <td>116701.0</td>\n",
       "      <td>237174.0</td>\n",
       "    </tr>\n",
       "  </tbody>\n",
       "</table>\n",
       "</div>"
      ],
      "text/plain": [
       "        State/UT    Private     Public      Total\n",
       "31   Grand Total  1697117.0  1238196.0  2935313.0\n",
       "6   Chhattisgarh   411814.0   142123.0   553937.0\n",
       "16        Kerala   131557.0   391079.0   522636.0\n",
       "10       Gujarat   379379.0    94845.0   474224.0\n",
       "26    Tamil Nadu   120473.0   116701.0   237174.0"
      ]
     },
     "execution_count": 35,
     "metadata": {},
     "output_type": "execute_result"
    }
   ],
   "source": [
    "df.sort_values('Total',ascending=False).head()"
   ]
  },
  {
   "cell_type": "code",
   "execution_count": 46,
   "metadata": {
    "scrolled": true
   },
   "outputs": [
    {
     "data": {
      "text/plain": [
       "6                    Chhattisgarh\n",
       "16                         Kerala\n",
       "10                        Gujarat\n",
       "26                     Tamil Nadu\n",
       "15                      Karnataka\n",
       "14                      Jharkhand\n",
       "19                    Maharashtra\n",
       "1                  Andhra Pradesh\n",
       "28                  Uttar Pradesh\n",
       "18                 Madhya Pradesh\n",
       "29                    Uttarakhand\n",
       "3                           Assam\n",
       "4                           Bihar\n",
       "11                        Haryana\n",
       "12               Himachal Pradesh\n",
       "13              Jammu and Kashmir\n",
       "30                    West Bengal\n",
       "27                        Tripura\n",
       "21                      Meghalaya\n",
       "22                        Mizoram\n",
       "7          Dadra and Nagar Haveli\n",
       "8                   Daman and Diu\n",
       "20                        Manipur\n",
       "9                             Goa\n",
       "23                       Nagaland\n",
       "5                      Chandigarh\n",
       "2               Arunachal Pradesh\n",
       "25                         Sikkim\n",
       "0     Andaman and Nicobar Islands\n",
       "Name: State/UT, dtype: object"
      ]
     },
     "execution_count": 46,
     "metadata": {},
     "output_type": "execute_result"
    }
   ],
   "source": [
    "unhealthiest=df.drop(31,axis=0)\n",
    "unhealthiest.sort_values('Total',ascending=False)['State/UT']"
   ]
  },
  {
   "cell_type": "code",
   "execution_count": 48,
   "metadata": {},
   "outputs": [
    {
     "data": {
      "image/png": "[encoded data removed]",
      "text/plain": [
       "<Figure size 720x576 with 1 Axes>"
      ]
     },
     "metadata": {
      "needs_background": "light"
     },
     "output_type": "display_data"
    }
   ],
   "source": [
    "plt.figure(figsize=(10,8))\n",
    "sns.barplot(y=unhealthiest['State/UT'],x=unhealthiest['Total'],order=unhealthiest.sort_values('Total',ascending=False)['State/UT'])\n",
    "plt.show()"
   ]
  },
  {
   "cell_type": "markdown",
   "metadata": {},
   "source": [
    "## Question 7: Chhattisgarh accounts for roughly 18% share in the total hospitalisations in India (assuming these are the only states/UTs in India). True for False?"
   ]
  },
  {
   "cell_type": "code",
   "execution_count": 49,
   "metadata": {},
   "outputs": [
    {
     "data": {
      "text/html": [
       "<div>\n",
       "<style scoped>\n",
       "    .dataframe tbody tr th:only-of-type {\n",
       "        vertical-align: middle;\n",
       "    }\n",
       "\n",
       "    .dataframe tbody tr th {\n",
       "        vertical-align: top;\n",
       "    }\n",
       "\n",
       "    .dataframe thead th {\n",
       "        text-align: right;\n",
       "    }\n",
       "</style>\n",
       "<table border=\"1\" class=\"dataframe\">\n",
       "  <thead>\n",
       "    <tr style=\"text-align: right;\">\n",
       "      <th></th>\n",
       "      <th>State/UT</th>\n",
       "      <th>Private</th>\n",
       "      <th>Public</th>\n",
       "      <th>Total</th>\n",
       "    </tr>\n",
       "  </thead>\n",
       "  <tbody>\n",
       "    <tr>\n",
       "      <th>0</th>\n",
       "      <td>Andaman and Nicobar Islands</td>\n",
       "      <td>1.0</td>\n",
       "      <td>21.0</td>\n",
       "      <td>22.0</td>\n",
       "    </tr>\n",
       "    <tr>\n",
       "      <th>1</th>\n",
       "      <td>Andhra Pradesh</td>\n",
       "      <td>97863.0</td>\n",
       "      <td>34385.0</td>\n",
       "      <td>132248.0</td>\n",
       "    </tr>\n",
       "    <tr>\n",
       "      <th>2</th>\n",
       "      <td>Arunachal Pradesh</td>\n",
       "      <td>5.0</td>\n",
       "      <td>630.0</td>\n",
       "      <td>635.0</td>\n",
       "    </tr>\n",
       "    <tr>\n",
       "      <th>3</th>\n",
       "      <td>Assam</td>\n",
       "      <td>14350.0</td>\n",
       "      <td>33553.0</td>\n",
       "      <td>47903.0</td>\n",
       "    </tr>\n",
       "    <tr>\n",
       "      <th>4</th>\n",
       "      <td>Bihar</td>\n",
       "      <td>11747.0</td>\n",
       "      <td>34814.0</td>\n",
       "      <td>46561.0</td>\n",
       "    </tr>\n",
       "  </tbody>\n",
       "</table>\n",
       "</div>"
      ],
      "text/plain": [
       "                      State/UT  Private   Public     Total\n",
       "0  Andaman and Nicobar Islands      1.0     21.0      22.0\n",
       "1               Andhra Pradesh  97863.0  34385.0  132248.0\n",
       "2            Arunachal Pradesh      5.0    630.0     635.0\n",
       "3                        Assam  14350.0  33553.0   47903.0\n",
       "4                        Bihar  11747.0  34814.0   46561.0"
      ]
     },
     "execution_count": 49,
     "metadata": {},
     "output_type": "execute_result"
    }
   ],
   "source": [
    "df.head()"
   ]
  },
  {
   "cell_type": "code",
   "execution_count": 50,
   "metadata": {},
   "outputs": [],
   "source": [
    "df['% of hospitalization']=df['Total']/df['Total'].max()*100"
   ]
  },
  {
   "cell_type": "code",
   "execution_count": 54,
   "metadata": {},
   "outputs": [
    {
     "data": {
      "text/html": [
       "<div>\n",
       "<style scoped>\n",
       "    .dataframe tbody tr th:only-of-type {\n",
       "        vertical-align: middle;\n",
       "    }\n",
       "\n",
       "    .dataframe tbody tr th {\n",
       "        vertical-align: top;\n",
       "    }\n",
       "\n",
       "    .dataframe thead th {\n",
       "        text-align: right;\n",
       "    }\n",
       "</style>\n",
       "<table border=\"1\" class=\"dataframe\">\n",
       "  <thead>\n",
       "    <tr style=\"text-align: right;\">\n",
       "      <th></th>\n",
       "      <th>State/UT</th>\n",
       "      <th>Private</th>\n",
       "      <th>Public</th>\n",
       "      <th>Total</th>\n",
       "      <th>% of hospitalization</th>\n",
       "    </tr>\n",
       "  </thead>\n",
       "  <tbody>\n",
       "    <tr>\n",
       "      <th>6</th>\n",
       "      <td>Chhattisgarh</td>\n",
       "      <td>411814.0</td>\n",
       "      <td>142123.0</td>\n",
       "      <td>553937.0</td>\n",
       "      <td>18.87148</td>\n",
       "    </tr>\n",
       "  </tbody>\n",
       "</table>\n",
       "</div>"
      ],
      "text/plain": [
       "       State/UT   Private    Public     Total  % of hospitalization\n",
       "6  Chhattisgarh  411814.0  142123.0  553937.0              18.87148"
      ]
     },
     "execution_count": 54,
     "metadata": {},
     "output_type": "execute_result"
    }
   ],
   "source": [
    "df[df['State/UT']=='Chhattisgarh']"
   ]
  },
  {
   "cell_type": "markdown",
   "metadata": {},
   "source": [
    "## Question 8: In Dadra and Nagar Haveli, which type of hospitals do people prefer?"
   ]
  },
  {
   "cell_type": "code",
   "execution_count": 55,
   "metadata": {},
   "outputs": [
    {
     "data": {
      "text/html": [
       "<div>\n",
       "<style scoped>\n",
       "    .dataframe tbody tr th:only-of-type {\n",
       "        vertical-align: middle;\n",
       "    }\n",
       "\n",
       "    .dataframe tbody tr th {\n",
       "        vertical-align: top;\n",
       "    }\n",
       "\n",
       "    .dataframe thead th {\n",
       "        text-align: right;\n",
       "    }\n",
       "</style>\n",
       "<table border=\"1\" class=\"dataframe\">\n",
       "  <thead>\n",
       "    <tr style=\"text-align: right;\">\n",
       "      <th></th>\n",
       "      <th>State/UT</th>\n",
       "      <th>Private</th>\n",
       "      <th>Public</th>\n",
       "      <th>Total</th>\n",
       "      <th>% of hospitalization</th>\n",
       "    </tr>\n",
       "  </thead>\n",
       "  <tbody>\n",
       "    <tr>\n",
       "      <th>7</th>\n",
       "      <td>Dadra and Nagar Haveli</td>\n",
       "      <td>782.0</td>\n",
       "      <td>10940.0</td>\n",
       "      <td>11722.0</td>\n",
       "      <td>0.399344</td>\n",
       "    </tr>\n",
       "  </tbody>\n",
       "</table>\n",
       "</div>"
      ],
      "text/plain": [
       "                 State/UT  Private   Public    Total  % of hospitalization\n",
       "7  Dadra and Nagar Haveli    782.0  10940.0  11722.0              0.399344"
      ]
     },
     "execution_count": 55,
     "metadata": {},
     "output_type": "execute_result"
    }
   ],
   "source": [
    "df[df['State/UT']=='Dadra and Nagar Haveli']"
   ]
  },
  {
   "cell_type": "markdown",
   "metadata": {},
   "source": [
    "## Question 9: Plot the total hospitalisations in a plot of your choice and comment on the \n",
    "## healthiest State/UT. (Assuming that the only parameter for Healthiest is the number of \n",
    "## hospitalisations only)"
   ]
  },
  {
   "cell_type": "code",
   "execution_count": 56,
   "metadata": {},
   "outputs": [
    {
     "data": {
      "image/png": "[encoded data removed]",
      "text/plain": [
       "<Figure size 720x576 with 1 Axes>"
      ]
     },
     "metadata": {
      "needs_background": "light"
     },
     "output_type": "display_data"
    }
   ],
   "source": [
    "plt.figure(figsize=(10,8))\n",
    "sns.barplot(y=unhealthiest['State/UT'],x=unhealthiest['Total'],order=unhealthiest.sort_values('Total',ascending=True)['State/UT'])\n",
    "plt.show()"
   ]
  },
  {
   "cell_type": "markdown",
   "metadata": {},
   "source": [
    "## Question 10: Public Hospitalisations are more on an all India level as compared to state/UT level. True or False? \n",
    "## HINT: Calculate the percentage of public hospitalisation (public/total), then find out the average percentage of all states using the mean() function. Compare this average percentage (state) with the grand total (all India) percentage and comment."
   ]
  },
  {
   "cell_type": "code",
   "execution_count": 71,
   "metadata": {},
   "outputs": [
    {
     "data": {
      "text/plain": [
       "59.0"
      ]
     },
     "execution_count": 71,
     "metadata": {},
     "output_type": "execute_result"
    }
   ],
   "source": [
    "round(df['Public %'].mean(),2)*100"
   ]
  },
  {
   "cell_type": "code",
   "execution_count": 74,
   "metadata": {
    "scrolled": true
   },
   "outputs": [
    {
     "name": "stdout",
     "output_type": "stream",
     "text": [
      "Public hospitalization on State/UT level is 59.0 %\n"
     ]
    }
   ],
   "source": [
    "df['Public %']=df['Public']/df['Total']\n",
    "print('Public hospitalization on State/UT level is',round(df['Public %'].mean(),2)*100,'%')"
   ]
  },
  {
   "cell_type": "code",
   "execution_count": 62,
   "metadata": {},
   "outputs": [
    {
     "name": "stdout",
     "output_type": "stream",
     "text": [
      "Public hospitalization on all india level is 84.0 %\n"
     ]
    }
   ],
   "source": [
    "print('Public hospitalization on all india level is',round(df['Public'].sum()/df['Total'].max(),2)*100,'%')"
   ]
  },
  {
   "cell_type": "code",
   "execution_count": null,
   "metadata": {},
   "outputs": [],
   "source": []
  },
  {
   "cell_type": "markdown",
   "metadata": {},
   "source": [
    "## Question 11: Which States/UTs have more than 50000 hospitalisations?"
   ]
  },
  {
   "cell_type": "code",
   "execution_count": 79,
   "metadata": {},
   "outputs": [
    {
     "data": {
      "text/plain": [
       "1     Andhra Pradesh\n",
       "6       Chhattisgarh\n",
       "10           Gujarat\n",
       "14         Jharkhand\n",
       "15         Karnataka\n",
       "16            Kerala\n",
       "18    Madhya Pradesh\n",
       "19       Maharashtra\n",
       "26        Tamil Nadu\n",
       "28     Uttar Pradesh\n",
       "31       Grand Total\n",
       "Name: State/UT, dtype: object"
      ]
     },
     "execution_count": 79,
     "metadata": {},
     "output_type": "execute_result"
    }
   ],
   "source": [
    "df[df['Total']>=50000]['State/UT']"
   ]
  },
  {
   "cell_type": "markdown",
   "metadata": {},
   "source": [
    "## Question 12: Which state reported exactly 1 case of private hospitalisation?"
   ]
  },
  {
   "cell_type": "code",
   "execution_count": 80,
   "metadata": {},
   "outputs": [
    {
     "data": {
      "text/html": [
       "<div>\n",
       "<style scoped>\n",
       "    .dataframe tbody tr th:only-of-type {\n",
       "        vertical-align: middle;\n",
       "    }\n",
       "\n",
       "    .dataframe tbody tr th {\n",
       "        vertical-align: top;\n",
       "    }\n",
       "\n",
       "    .dataframe thead th {\n",
       "        text-align: right;\n",
       "    }\n",
       "</style>\n",
       "<table border=\"1\" class=\"dataframe\">\n",
       "  <thead>\n",
       "    <tr style=\"text-align: right;\">\n",
       "      <th></th>\n",
       "      <th>State/UT</th>\n",
       "      <th>Private</th>\n",
       "      <th>Public</th>\n",
       "      <th>Total</th>\n",
       "      <th>% of hospitalization</th>\n",
       "      <th>Public %</th>\n",
       "    </tr>\n",
       "  </thead>\n",
       "  <tbody>\n",
       "    <tr>\n",
       "      <th>0</th>\n",
       "      <td>Andaman and Nicobar Islands</td>\n",
       "      <td>1.0</td>\n",
       "      <td>21.0</td>\n",
       "      <td>22.0</td>\n",
       "      <td>0.000749</td>\n",
       "      <td>0.954545</td>\n",
       "    </tr>\n",
       "  </tbody>\n",
       "</table>\n",
       "</div>"
      ],
      "text/plain": [
       "                      State/UT  Private  Public  Total  % of hospitalization  \\\n",
       "0  Andaman and Nicobar Islands      1.0    21.0   22.0              0.000749   \n",
       "\n",
       "   Public %  \n",
       "0  0.954545  "
      ]
     },
     "execution_count": 80,
     "metadata": {},
     "output_type": "execute_result"
    }
   ],
   "source": [
    "df[df['Private']==1]"
   ]
  },
  {
   "cell_type": "markdown",
   "metadata": {},
   "source": [
    "## Question 13: Which State/UT has maximum number of people admitted to public hospitals?"
   ]
  },
  {
   "cell_type": "code",
   "execution_count": 81,
   "metadata": {},
   "outputs": [],
   "source": [
    "maxpublic=df.copy()"
   ]
  },
  {
   "cell_type": "code",
   "execution_count": 82,
   "metadata": {},
   "outputs": [],
   "source": [
    "maxpublic.drop(31,axis=0,inplace=True)"
   ]
  },
  {
   "cell_type": "code",
   "execution_count": 85,
   "metadata": {},
   "outputs": [
    {
     "data": {
      "text/html": [
       "<div>\n",
       "<style scoped>\n",
       "    .dataframe tbody tr th:only-of-type {\n",
       "        vertical-align: middle;\n",
       "    }\n",
       "\n",
       "    .dataframe tbody tr th {\n",
       "        vertical-align: top;\n",
       "    }\n",
       "\n",
       "    .dataframe thead th {\n",
       "        text-align: right;\n",
       "    }\n",
       "</style>\n",
       "<table border=\"1\" class=\"dataframe\">\n",
       "  <thead>\n",
       "    <tr style=\"text-align: right;\">\n",
       "      <th></th>\n",
       "      <th>State/UT</th>\n",
       "      <th>Private</th>\n",
       "      <th>Public</th>\n",
       "      <th>Total</th>\n",
       "      <th>% of hospitalization</th>\n",
       "      <th>Public %</th>\n",
       "    </tr>\n",
       "  </thead>\n",
       "  <tbody>\n",
       "    <tr>\n",
       "      <th>16</th>\n",
       "      <td>Kerala</td>\n",
       "      <td>131557.0</td>\n",
       "      <td>391079.0</td>\n",
       "      <td>522636.0</td>\n",
       "      <td>17.805120</td>\n",
       "      <td>0.748282</td>\n",
       "    </tr>\n",
       "    <tr>\n",
       "      <th>6</th>\n",
       "      <td>Chhattisgarh</td>\n",
       "      <td>411814.0</td>\n",
       "      <td>142123.0</td>\n",
       "      <td>553937.0</td>\n",
       "      <td>18.871480</td>\n",
       "      <td>0.256569</td>\n",
       "    </tr>\n",
       "    <tr>\n",
       "      <th>15</th>\n",
       "      <td>Karnataka</td>\n",
       "      <td>65502.0</td>\n",
       "      <td>128640.0</td>\n",
       "      <td>194142.0</td>\n",
       "      <td>6.614014</td>\n",
       "      <td>0.662608</td>\n",
       "    </tr>\n",
       "    <tr>\n",
       "      <th>26</th>\n",
       "      <td>Tamil Nadu</td>\n",
       "      <td>120473.0</td>\n",
       "      <td>116701.0</td>\n",
       "      <td>237174.0</td>\n",
       "      <td>8.080024</td>\n",
       "      <td>0.492048</td>\n",
       "    </tr>\n",
       "    <tr>\n",
       "      <th>10</th>\n",
       "      <td>Gujarat</td>\n",
       "      <td>379379.0</td>\n",
       "      <td>94845.0</td>\n",
       "      <td>474224.0</td>\n",
       "      <td>16.155824</td>\n",
       "      <td>0.200000</td>\n",
       "    </tr>\n",
       "  </tbody>\n",
       "</table>\n",
       "</div>"
      ],
      "text/plain": [
       "        State/UT   Private    Public     Total  % of hospitalization  Public %\n",
       "16        Kerala  131557.0  391079.0  522636.0             17.805120  0.748282\n",
       "6   Chhattisgarh  411814.0  142123.0  553937.0             18.871480  0.256569\n",
       "15     Karnataka   65502.0  128640.0  194142.0              6.614014  0.662608\n",
       "26    Tamil Nadu  120473.0  116701.0  237174.0              8.080024  0.492048\n",
       "10       Gujarat  379379.0   94845.0  474224.0             16.155824  0.200000"
      ]
     },
     "execution_count": 85,
     "metadata": {},
     "output_type": "execute_result"
    }
   ],
   "source": [
    "maxpublic.sort_values('Public',ascending=False).head()"
   ]
  },
  {
   "cell_type": "code",
   "execution_count": 88,
   "metadata": {},
   "outputs": [
    {
     "name": "stderr",
     "output_type": "stream",
     "text": [
      "/opt/anaconda3/lib/python3.9/site-packages/seaborn/_decorators.py:36: FutureWarning: Pass the following variables as keyword args: x, y. From version 0.12, the only valid positional argument will be `data`, and passing other arguments without an explicit keyword will result in an error or misinterpretation.\n",
      "  warnings.warn(\n"
     ]
    },
    {
     "data": {
      "text/plain": [
       "<AxesSubplot:xlabel='Public', ylabel='State/UT'>"
      ]
     },
     "execution_count": 88,
     "metadata": {},
     "output_type": "execute_result"
    },
    {
     "data": {
      "image/png": "[encoded data removed]",
      "text/plain": [
       "<Figure size 432x288 with 1 Axes>"
      ]
     },
     "metadata": {
      "needs_background": "light"
     },
     "output_type": "display_data"
    }
   ],
   "source": [
    "sns.barplot(maxpublic['Public'],maxpublic['State/UT'],order=maxpublic.sort_values('Public',ascending=False)['State/UT'])"
   ]
  },
  {
   "cell_type": "markdown",
   "metadata": {},
   "source": [
    "## Question 14: Which state among Tripura and Gujarat witnessed more hospitalisations? \n",
    "## (in absolute numbers)"
   ]
  },
  {
   "cell_type": "code",
   "execution_count": 90,
   "metadata": {},
   "outputs": [
    {
     "data": {
      "text/html": [
       "<div>\n",
       "<style scoped>\n",
       "    .dataframe tbody tr th:only-of-type {\n",
       "        vertical-align: middle;\n",
       "    }\n",
       "\n",
       "    .dataframe tbody tr th {\n",
       "        vertical-align: top;\n",
       "    }\n",
       "\n",
       "    .dataframe thead th {\n",
       "        text-align: right;\n",
       "    }\n",
       "</style>\n",
       "<table border=\"1\" class=\"dataframe\">\n",
       "  <thead>\n",
       "    <tr style=\"text-align: right;\">\n",
       "      <th></th>\n",
       "      <th>State/UT</th>\n",
       "      <th>Private</th>\n",
       "      <th>Public</th>\n",
       "      <th>Total</th>\n",
       "      <th>% of hospitalization</th>\n",
       "      <th>Public %</th>\n",
       "    </tr>\n",
       "  </thead>\n",
       "  <tbody>\n",
       "    <tr>\n",
       "      <th>27</th>\n",
       "      <td>Tripura</td>\n",
       "      <td>90.0</td>\n",
       "      <td>16702.0</td>\n",
       "      <td>16792.0</td>\n",
       "      <td>0.572068</td>\n",
       "      <td>0.99464</td>\n",
       "    </tr>\n",
       "  </tbody>\n",
       "</table>\n",
       "</div>"
      ],
      "text/plain": [
       "   State/UT  Private   Public    Total  % of hospitalization  Public %\n",
       "27  Tripura     90.0  16702.0  16792.0              0.572068   0.99464"
      ]
     },
     "execution_count": 90,
     "metadata": {},
     "output_type": "execute_result"
    }
   ],
   "source": [
    "df[df['State/UT']=='Tripura']"
   ]
  },
  {
   "cell_type": "code",
   "execution_count": 91,
   "metadata": {},
   "outputs": [
    {
     "data": {
      "text/html": [
       "<div>\n",
       "<style scoped>\n",
       "    .dataframe tbody tr th:only-of-type {\n",
       "        vertical-align: middle;\n",
       "    }\n",
       "\n",
       "    .dataframe tbody tr th {\n",
       "        vertical-align: top;\n",
       "    }\n",
       "\n",
       "    .dataframe thead th {\n",
       "        text-align: right;\n",
       "    }\n",
       "</style>\n",
       "<table border=\"1\" class=\"dataframe\">\n",
       "  <thead>\n",
       "    <tr style=\"text-align: right;\">\n",
       "      <th></th>\n",
       "      <th>State/UT</th>\n",
       "      <th>Private</th>\n",
       "      <th>Public</th>\n",
       "      <th>Total</th>\n",
       "      <th>% of hospitalization</th>\n",
       "      <th>Public %</th>\n",
       "    </tr>\n",
       "  </thead>\n",
       "  <tbody>\n",
       "    <tr>\n",
       "      <th>10</th>\n",
       "      <td>Gujarat</td>\n",
       "      <td>379379.0</td>\n",
       "      <td>94845.0</td>\n",
       "      <td>474224.0</td>\n",
       "      <td>16.155824</td>\n",
       "      <td>0.2</td>\n",
       "    </tr>\n",
       "  </tbody>\n",
       "</table>\n",
       "</div>"
      ],
      "text/plain": [
       "   State/UT   Private   Public     Total  % of hospitalization  Public %\n",
       "10  Gujarat  379379.0  94845.0  474224.0             16.155824       0.2"
      ]
     },
     "execution_count": 91,
     "metadata": {},
     "output_type": "execute_result"
    }
   ],
   "source": [
    "df[df['State/UT']=='Gujarat']"
   ]
  },
  {
   "cell_type": "markdown",
   "metadata": {},
   "source": [
    "## Question 15: Are there any extreme values/ outliers present in this data set? Do these\n",
    "## values impact the analysis?"
   ]
  },
  {
   "cell_type": "code",
   "execution_count": 101,
   "metadata": {},
   "outputs": [
    {
     "data": {
      "text/plain": [
       "State/UT                 object\n",
       "Private                 float64\n",
       "Public                  float64\n",
       "Total                   float64\n",
       "% of hospitalization    float64\n",
       "Public %                float64\n",
       "dtype: object"
      ]
     },
     "execution_count": 101,
     "metadata": {},
     "output_type": "execute_result"
    }
   ],
   "source": [
    "new=df[df.dtypes[]"
   ]
  },
  {
   "cell_type": "code",
   "execution_count": 100,
   "metadata": {
    "scrolled": true
   },
   "outputs": [
    {
     "data": {
      "text/html": [
       "<div>\n",
       "<style scoped>\n",
       "    .dataframe tbody tr th:only-of-type {\n",
       "        vertical-align: middle;\n",
       "    }\n",
       "\n",
       "    .dataframe tbody tr th {\n",
       "        vertical-align: top;\n",
       "    }\n",
       "\n",
       "    .dataframe thead th {\n",
       "        text-align: right;\n",
       "    }\n",
       "</style>\n",
       "<table border=\"1\" class=\"dataframe\">\n",
       "  <thead>\n",
       "    <tr style=\"text-align: right;\">\n",
       "      <th></th>\n",
       "      <th>Private</th>\n",
       "      <th>Public</th>\n",
       "      <th>Total</th>\n",
       "      <th>% of hospitalization</th>\n",
       "      <th>Public %</th>\n",
       "    </tr>\n",
       "  </thead>\n",
       "  <tbody>\n",
       "    <tr>\n",
       "      <th>0</th>\n",
       "      <td>1.0</td>\n",
       "      <td>21.0</td>\n",
       "      <td>22.0</td>\n",
       "      <td>0.000749</td>\n",
       "      <td>0.954545</td>\n",
       "    </tr>\n",
       "    <tr>\n",
       "      <th>1</th>\n",
       "      <td>97863.0</td>\n",
       "      <td>34385.0</td>\n",
       "      <td>132248.0</td>\n",
       "      <td>4.505414</td>\n",
       "      <td>0.260004</td>\n",
       "    </tr>\n",
       "    <tr>\n",
       "      <th>2</th>\n",
       "      <td>5.0</td>\n",
       "      <td>630.0</td>\n",
       "      <td>635.0</td>\n",
       "      <td>0.021633</td>\n",
       "      <td>0.992126</td>\n",
       "    </tr>\n",
       "    <tr>\n",
       "      <th>3</th>\n",
       "      <td>14350.0</td>\n",
       "      <td>33553.0</td>\n",
       "      <td>47903.0</td>\n",
       "      <td>1.631955</td>\n",
       "      <td>0.700436</td>\n",
       "    </tr>\n",
       "    <tr>\n",
       "      <th>4</th>\n",
       "      <td>11747.0</td>\n",
       "      <td>34814.0</td>\n",
       "      <td>46561.0</td>\n",
       "      <td>1.586236</td>\n",
       "      <td>0.747707</td>\n",
       "    </tr>\n",
       "    <tr>\n",
       "      <th>5</th>\n",
       "      <td>302.0</td>\n",
       "      <td>509.0</td>\n",
       "      <td>811.0</td>\n",
       "      <td>0.027629</td>\n",
       "      <td>0.627620</td>\n",
       "    </tr>\n",
       "    <tr>\n",
       "      <th>6</th>\n",
       "      <td>411814.0</td>\n",
       "      <td>142123.0</td>\n",
       "      <td>553937.0</td>\n",
       "      <td>18.871480</td>\n",
       "      <td>0.256569</td>\n",
       "    </tr>\n",
       "    <tr>\n",
       "      <th>7</th>\n",
       "      <td>782.0</td>\n",
       "      <td>10940.0</td>\n",
       "      <td>11722.0</td>\n",
       "      <td>0.399344</td>\n",
       "      <td>0.933288</td>\n",
       "    </tr>\n",
       "    <tr>\n",
       "      <th>8</th>\n",
       "      <td>984.0</td>\n",
       "      <td>3343.0</td>\n",
       "      <td>4327.0</td>\n",
       "      <td>0.147412</td>\n",
       "      <td>0.772591</td>\n",
       "    </tr>\n",
       "    <tr>\n",
       "      <th>9</th>\n",
       "      <td>1033.0</td>\n",
       "      <td>382.0</td>\n",
       "      <td>1415.0</td>\n",
       "      <td>0.048206</td>\n",
       "      <td>0.269965</td>\n",
       "    </tr>\n",
       "    <tr>\n",
       "      <th>10</th>\n",
       "      <td>379379.0</td>\n",
       "      <td>94845.0</td>\n",
       "      <td>474224.0</td>\n",
       "      <td>16.155824</td>\n",
       "      <td>0.200000</td>\n",
       "    </tr>\n",
       "    <tr>\n",
       "      <th>11</th>\n",
       "      <td>16341.0</td>\n",
       "      <td>10223.0</td>\n",
       "      <td>26564.0</td>\n",
       "      <td>0.904980</td>\n",
       "      <td>0.384844</td>\n",
       "    </tr>\n",
       "    <tr>\n",
       "      <th>12</th>\n",
       "      <td>2160.0</td>\n",
       "      <td>16461.0</td>\n",
       "      <td>18621.0</td>\n",
       "      <td>0.634379</td>\n",
       "      <td>0.884002</td>\n",
       "    </tr>\n",
       "    <tr>\n",
       "      <th>13</th>\n",
       "      <td>9707.0</td>\n",
       "      <td>8720.0</td>\n",
       "      <td>18427.0</td>\n",
       "      <td>0.627770</td>\n",
       "      <td>0.473219</td>\n",
       "    </tr>\n",
       "    <tr>\n",
       "      <th>14</th>\n",
       "      <td>156760.0</td>\n",
       "      <td>24114.0</td>\n",
       "      <td>180874.0</td>\n",
       "      <td>6.162000</td>\n",
       "      <td>0.133319</td>\n",
       "    </tr>\n",
       "    <tr>\n",
       "      <th>15</th>\n",
       "      <td>65502.0</td>\n",
       "      <td>128640.0</td>\n",
       "      <td>194142.0</td>\n",
       "      <td>6.614014</td>\n",
       "      <td>0.662608</td>\n",
       "    </tr>\n",
       "    <tr>\n",
       "      <th>16</th>\n",
       "      <td>131557.0</td>\n",
       "      <td>391079.0</td>\n",
       "      <td>522636.0</td>\n",
       "      <td>17.805120</td>\n",
       "      <td>0.748282</td>\n",
       "    </tr>\n",
       "    <tr>\n",
       "      <th>18</th>\n",
       "      <td>29314.0</td>\n",
       "      <td>63818.0</td>\n",
       "      <td>93132.0</td>\n",
       "      <td>3.172813</td>\n",
       "      <td>0.685242</td>\n",
       "    </tr>\n",
       "    <tr>\n",
       "      <th>19</th>\n",
       "      <td>107977.0</td>\n",
       "      <td>31179.0</td>\n",
       "      <td>139156.0</td>\n",
       "      <td>4.740755</td>\n",
       "      <td>0.224058</td>\n",
       "    </tr>\n",
       "    <tr>\n",
       "      <th>20</th>\n",
       "      <td>725.0</td>\n",
       "      <td>2412.0</td>\n",
       "      <td>3137.0</td>\n",
       "      <td>0.106871</td>\n",
       "      <td>0.768887</td>\n",
       "    </tr>\n",
       "    <tr>\n",
       "      <th>21</th>\n",
       "      <td>4836.0</td>\n",
       "      <td>9016.0</td>\n",
       "      <td>13852.0</td>\n",
       "      <td>0.471909</td>\n",
       "      <td>0.650881</td>\n",
       "    </tr>\n",
       "    <tr>\n",
       "      <th>22</th>\n",
       "      <td>441.0</td>\n",
       "      <td>12588.0</td>\n",
       "      <td>13029.0</td>\n",
       "      <td>0.443871</td>\n",
       "      <td>0.966152</td>\n",
       "    </tr>\n",
       "    <tr>\n",
       "      <th>23</th>\n",
       "      <td>325.0</td>\n",
       "      <td>532.0</td>\n",
       "      <td>857.0</td>\n",
       "      <td>0.029196</td>\n",
       "      <td>0.620770</td>\n",
       "    </tr>\n",
       "    <tr>\n",
       "      <th>25</th>\n",
       "      <td>21.0</td>\n",
       "      <td>91.0</td>\n",
       "      <td>112.0</td>\n",
       "      <td>0.003816</td>\n",
       "      <td>0.812500</td>\n",
       "    </tr>\n",
       "    <tr>\n",
       "      <th>26</th>\n",
       "      <td>120473.0</td>\n",
       "      <td>116701.0</td>\n",
       "      <td>237174.0</td>\n",
       "      <td>8.080024</td>\n",
       "      <td>0.492048</td>\n",
       "    </tr>\n",
       "    <tr>\n",
       "      <th>27</th>\n",
       "      <td>90.0</td>\n",
       "      <td>16702.0</td>\n",
       "      <td>16792.0</td>\n",
       "      <td>0.572068</td>\n",
       "      <td>0.994640</td>\n",
       "    </tr>\n",
       "    <tr>\n",
       "      <th>28</th>\n",
       "      <td>89987.0</td>\n",
       "      <td>26800.0</td>\n",
       "      <td>116787.0</td>\n",
       "      <td>3.978690</td>\n",
       "      <td>0.229478</td>\n",
       "    </tr>\n",
       "    <tr>\n",
       "      <th>29</th>\n",
       "      <td>30472.0</td>\n",
       "      <td>18108.0</td>\n",
       "      <td>48580.0</td>\n",
       "      <td>1.655019</td>\n",
       "      <td>0.372746</td>\n",
       "    </tr>\n",
       "    <tr>\n",
       "      <th>30</th>\n",
       "      <td>12169.0</td>\n",
       "      <td>5467.0</td>\n",
       "      <td>17636.0</td>\n",
       "      <td>0.600822</td>\n",
       "      <td>0.309991</td>\n",
       "    </tr>\n",
       "    <tr>\n",
       "      <th>31</th>\n",
       "      <td>1697117.0</td>\n",
       "      <td>1238196.0</td>\n",
       "      <td>2935313.0</td>\n",
       "      <td>100.000000</td>\n",
       "      <td>0.421828</td>\n",
       "    </tr>\n",
       "  </tbody>\n",
       "</table>\n",
       "</div>"
      ],
      "text/plain": [
       "      Private     Public      Total  % of hospitalization  Public %\n",
       "0         1.0       21.0       22.0              0.000749  0.954545\n",
       "1     97863.0    34385.0   132248.0              4.505414  0.260004\n",
       "2         5.0      630.0      635.0              0.021633  0.992126\n",
       "3     14350.0    33553.0    47903.0              1.631955  0.700436\n",
       "4     11747.0    34814.0    46561.0              1.586236  0.747707\n",
       "5       302.0      509.0      811.0              0.027629  0.627620\n",
       "6    411814.0   142123.0   553937.0             18.871480  0.256569\n",
       "7       782.0    10940.0    11722.0              0.399344  0.933288\n",
       "8       984.0     3343.0     4327.0              0.147412  0.772591\n",
       "9      1033.0      382.0     1415.0              0.048206  0.269965\n",
       "10   379379.0    94845.0   474224.0             16.155824  0.200000\n",
       "11    16341.0    10223.0    26564.0              0.904980  0.384844\n",
       "12     2160.0    16461.0    18621.0              0.634379  0.884002\n",
       "13     9707.0     8720.0    18427.0              0.627770  0.473219\n",
       "14   156760.0    24114.0   180874.0              6.162000  0.133319\n",
       "15    65502.0   128640.0   194142.0              6.614014  0.662608\n",
       "16   131557.0   391079.0   522636.0             17.805120  0.748282\n",
       "18    29314.0    63818.0    93132.0              3.172813  0.685242\n",
       "19   107977.0    31179.0   139156.0              4.740755  0.224058\n",
       "20      725.0     2412.0     3137.0              0.106871  0.768887\n",
       "21     4836.0     9016.0    13852.0              0.471909  0.650881\n",
       "22      441.0    12588.0    13029.0              0.443871  0.966152\n",
       "23      325.0      532.0      857.0              0.029196  0.620770\n",
       "25       21.0       91.0      112.0              0.003816  0.812500\n",
       "26   120473.0   116701.0   237174.0              8.080024  0.492048\n",
       "27       90.0    16702.0    16792.0              0.572068  0.994640\n",
       "28    89987.0    26800.0   116787.0              3.978690  0.229478\n",
       "29    30472.0    18108.0    48580.0              1.655019  0.372746\n",
       "30    12169.0     5467.0    17636.0              0.600822  0.309991\n",
       "31  1697117.0  1238196.0  2935313.0            100.000000  0.421828"
      ]
     },
     "execution_count": 100,
     "metadata": {},
     "output_type": "execute_result"
    }
   ],
   "source": [
    "data_plot=df[df.dtypes[df.dtypes!='object'].index]\n",
    "data_plot"
   ]
  },
  {
   "cell_type": "code",
   "execution_count": 94,
   "metadata": {},
   "outputs": [
    {
     "data": {
      "text/plain": [
       "<AxesSubplot:>"
      ]
     },
     "execution_count": 94,
     "metadata": {},
     "output_type": "execute_result"
    },
    {
     "data": {
      "image/png": "[encoded data removed]",
      "text/plain": [
       "<Figure size 432x288 with 1 Axes>"
      ]
     },
     "metadata": {
      "needs_background": "light"
     },
     "output_type": "display_data"
    }
   ],
   "source": [
    "df.boxplot()"
   ]
  },
  {
   "cell_type": "markdown",
   "metadata": {},
   "source": [
    "THE END!"
   ]
  }
 ],
 "metadata": {
  "kernelspec": {
   "display_name": "Python 3 (ipykernel)",
   "language": "python",
   "name": "python3"
  },
  "language_info": {
   "codemirror_mode": {
    "name": "ipython",
    "version": 3
   },
   "file_extension": ".py",
   "mimetype": "text/x-python",
   "name": "python",
   "nbconvert_exporter": "python",
   "pygments_lexer": "ipython3",
   "version": "3.9.7"
  }
 },
 "nbformat": 4,
 "nbformat_minor": 2
}
